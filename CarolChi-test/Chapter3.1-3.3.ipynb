{
 "cells": [
  {
   "cell_type": "markdown",
   "metadata": {},
   "source": [
    "# Neural Network     \n",
    "\n",
    "(1)     \n",
    "$$yhat = a$$   \n",
    "$$z = w^Tx+b$$   \n",
    "$$a = \\sigma(z)$$    \n",
    "$$L(a,y)$$\n",
    "   \n",
    "\n",
    "(2)      \n",
    "$$yhat$$    \n",
    "$$ z^{[1]} = W^{[1]}x+b^{[1]}$$    \n",
    "$$a^{[1]} = \\sigma(z^{[1]})$$      \n",
    "$$ z^{[2]} = W^{[2]}x+b^{[2]}$$       \n",
    "$$a^{[2]} = \\sigma(z^{[2]})$$     \n",
    "Do it multiple times,and a,z followed by a calculation,and then compute the loss at the end.\n",
    "\n"
   ]
  },
  {
   "cell_type": "markdown",
   "metadata": {},
   "source": [
    "# One hidden layer Neural Network\n",
    "## Neural Network Representation \n",
    "\n",
    "### vector x , a^[0]:input features; a stands for activations\n",
    "  \n",
    " Input layer (contains the inputs to the neural network)    \n",
    " $$ a^{[0]} = x$$     \n",
    " Hidden layer (is not seen)   \n",
    " $$ a^{[1]} = \\left[\\begin{matrix}a_{1}^{[1]}\\\\a_{2}^{[1]}\\\\...\\\\a_{4}^{[1]}\\end{matrix}\\right]\\tag{1}$$ \n",
    " Output layer (responsible for generating the predicted value y hat)     \n",
    " $$ \\hat y = a^{[2]}$$        \n",
    " $$\\hat y = a$$ \n",
    "\n",
    "## Count layers in neural networks      \n",
    "\n",
    "### Not count the input layer, so the hidden layer is layer one and the output layer is layer two.      \n",
    "### In notational conventions, the input layer is called layer 0. \n"
   ]
  },
  {
   "cell_type": "markdown",
   "metadata": {},
   "source": [
    "## Computing a Neural Network’s Output\n",
    "### Two steps:    \n",
    "### First, compute z:     \n",
    "$$ z = w^Tx+b $$     \n",
    "### Second, compute the activation:\n",
    "$$ a=\\sigma(z)$$  \n",
    "\n",
    "For example:    \n",
    "$$ z_{1}^{[1]} = w_{1}^{[1]T}x+b_{1}^{[1]}, a_{1}^{[1]} = \\sigma (z_{1}^{[1]})$$       \n",
    "$$ z_{2}^{[1]} = w_{2}^{[1]T}x+b_{2}^{[1]}, a_{2}^{[1]} = \\sigma (z_{2}^{[1]})$$     \n",
    "$$ z_{3}^{[1]} = w_{3}^{[1]T}x+b_{3}^{[1]}, a_{3}^{[1]} = \\sigma (z_{3}^{[1]})$$     \n",
    "$$ z_{4}^{[1]} = w_{4}^{[1]T}x+b_{4}^{[1]}, a_{4}^{[1]} = \\sigma (z_{4}^{[1]})$$\n",
    "      \n",
    "\n",
    "ps:$$ a_{i}^{[l]}$$\n",
    "l:layer ; i:node in layer    \n",
    "\n",
    "Take these four equations and vectorize. \n",
    "\n",
    "Given input x:    \n",
    "$$ z^{[1]} = w^{[1]}a^{[0]}+b^{[1]}$$    \n",
    "$$ a^{[1]} = \\sigma (z^{[1]})$$      \n",
    "$$ z^{[2]} = w^{[2]}a^{[1]}+b^{[2]}$$    \n",
    "$$ a^{[2]} = \\sigma (z^{[2]})$$\n",
    "\n",
    "\n"
   ]
  },
  {
   "cell_type": "code",
   "execution_count": null,
   "metadata": {},
   "outputs": [],
   "source": []
  }
 ],
 "metadata": {
  "kernelspec": {
   "display_name": "Python 3",
   "language": "python",
   "name": "python3"
  },
  "language_info": {
   "codemirror_mode": {
    "name": "ipython",
    "version": 3
   },
   "file_extension": ".py",
   "mimetype": "text/x-python",
   "name": "python",
   "nbconvert_exporter": "python",
   "pygments_lexer": "ipython3",
   "version": "3.5.2"
  }
 },
 "nbformat": 4,
 "nbformat_minor": 2
}
