{
 "cells": [
  {
   "cell_type": "markdown",
   "metadata": {},
   "source": [
    "# progress report\n",
    "[ ]review chapter2 of deeplearning\n",
    "\n",
    "# The plan for the next checkpoint\n",
    "[ ]continue reviewing chapter2 of deeplearning(beacause of my own tasks)"
   ]
  },
  {
   "cell_type": "code",
   "execution_count": null,
   "metadata": {},
   "outputs": [],
   "source": []
  }
 ],
 "metadata": {
  "kernelspec": {
   "display_name": "Python 3",
   "language": "python",
   "name": "python3"
  },
  "language_info": {
   "codemirror_mode": {
    "name": "ipython",
    "version": 3
   },
   "file_extension": ".py",
   "mimetype": "text/x-python",
   "name": "python",
   "nbconvert_exporter": "python",
   "pygments_lexer": "ipython3",
   "version": "3.5.2"
  }
 },
 "nbformat": 4,
 "nbformat_minor": 2
}
