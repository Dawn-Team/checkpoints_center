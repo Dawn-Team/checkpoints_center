{
 "cells": [
  {
   "cell_type": "markdown",
   "metadata": {},
   "source": [
    "# Week Three 吴恩达《神经网络和深度学习》笔记\n",
    "## 3.1神经网络概览Neural Networks Overview  \n",
    "使用上标方括号,目的是区分用来表示单个训练样本的圆括号  \n",
    "圆括号是用来表示单个训练样本的  \n",
    "$x^{(i)}$表示第i个训练样本  \n",
    "\n",
    "## 3.2神经网络表示Neural Networks Representation  \n",
    "当计算网络的层数时,不算入输入层的原因是隐藏层是第一层,输出层是第二层  \n",
    "在我们的符号约定中,将输入层称为第零层,所以在字面上可以说这是个三层的神经网络  \n",
    "双层是因为不把输入层看作一个标准层  \n",
    "双层神经网络是只有一个隐藏层的神经网络  \n",
    "\n",
    "## 3.3计算神经网络的输出Computing a Neural Network's Output  \n",
    "$Z^{[i]}=W^{[i]}X+b^{[i]}$  \n",
    "$a^{[l]}_i$ 上标方括号表示层数,下标i表示层中的第几个节点  \n",
    "\n",
    "## 3.4多个例子中的向量化Vectorizing accross multiple examples  \n",
    "$a^{[2](i)}$ 圆括号里的i表示训练样本i,方括号指的是第二层  \n",
    "$Z^{[1]}=W^{[1]}X+b^{[1]}$  \n",
    "$A^{[1]}=\\delta(Z^{[1]})$  \n",
    "$Z^{[2]}=W^{[2]}A^{[1]}+b^{[2]}$  \n",
    "$A^{[2]}=\\delta(Z^{[2]})$  \n",
    "\n",
    "## 3.5向量化实现的解释Explanation for vectoried implementation  \n",
    "$Z^{[1]}=W^{[1]}X+b^{[1]}$  \n",
    "$A^{[1]}=\\delta(Z^{[1]})$  \n",
    "$Z^{[2]}=W^{[2]}A^{[1]}+b^{[2]}$  \n",
    "$A^{[2]}=\\delta(Z^{[2]})$  "
   ]
  },
  {
   "cell_type": "markdown",
   "metadata": {},
   "source": []
  },
  {
   "cell_type": "code",
   "execution_count": null,
   "metadata": {},
   "outputs": [],
   "source": []
  }
 ],
 "metadata": {
  "kernelspec": {
   "display_name": "Python 3",
   "language": "python",
   "name": "python3"
  },
  "language_info": {
   "codemirror_mode": {
    "name": "ipython",
    "version": 3
   },
   "file_extension": ".py",
   "mimetype": "text/x-python",
   "name": "python",
   "nbconvert_exporter": "python",
   "pygments_lexer": "ipython3",
   "version": "3.5.2"
  }
 },
 "nbformat": 4,
 "nbformat_minor": 2
}
