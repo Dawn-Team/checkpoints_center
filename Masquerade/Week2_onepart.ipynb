{
 "cells": [
  {
   "cell_type": "markdown",
   "metadata": {
    "extensions": {
     "jupyter_dashboards": {
      "version": 1,
      "views": {
       "grid_default": {
        "hidden": true
       },
       "report_default": {}
      }
     }
    }
   },
   "source": [
    "# Week Two 吴恩达《神经网络和深度学习》笔记\n",
    "## 2.1Binary CLassification 二分分类\n",
    "introduction:notation  \n",
    "\n",
    "1.Python命令:  \n",
    "x.shape用来输出矩阵的维度即(n_x,m)  \n",
    "y.shape表示这是一个1xm矩阵  \n",
    "\n",
    "## 2.2Logistic regression logistic回归\n",
    "introduction:logistic regression model\n",
    "\n",
    "1.$\\hat{y} = sigmoid(w^{T}x +b) $ ,where $sigmoid(z)={\\frac{1}{1+e^{-z}}}$\n",
    "\n",
    "## 2.3Logistic regression cost function logistic回归损失函数\n",
    "1.$\\hat{y}^{i} = sigmoid(w^{T}x^{i} +b) $ ,where $sigmoid(z^{i})={\\frac{1}{1+e^{-z^{i}}}}$   \n",
    "    上标(i)来指明数据,表示x或y或y和第i个训练样本有关  \n",
    "\n",
    "2.Loss(error)function: \n",
    "    $L(\\hat{y},y)={\\frac{1}{2}}(\\hat{y}-y)^{2}$  \n",
    "定义这个损失函数L来衡量你的预测输出值y帽和y的实际值有多接近  \n",
    "要使用:  \n",
    "    $L(\\hat{y},y)=-(ylog\\hat{y}+(1-y)log(1-\\hat{y}))$  \n",
    "只适用于单个训练样本  \n",
    "\n",
    "3.Cost function:  \n",
    "    $J(w,b)={\\frac{1}{m}}\\sum_{i=1}^{m}L(\\hat{y}^{i},y^{i})$  \n",
    "适用于基于参数的总成本  \n",
    "\n"
   ]
  },
  {
   "cell_type": "code",
   "execution_count": null,
   "metadata": {},
   "outputs": [],
   "source": []
  }
 ],
 "metadata": {
  "extensions": {
   "jupyter_dashboards": {
    "activeView": "grid_default",
    "version": 1,
    "views": {
     "grid_default": {
      "cellMargin": 10,
      "defaultCellHeight": 20,
      "maxColumns": 12,
      "name": "grid",
      "type": "grid"
     },
     "report_default": {
      "name": "report",
      "type": "report"
     }
    }
   }
  },
  "kernelspec": {
   "display_name": "Python 3",
   "language": "python",
   "name": "python3"
  },
  "language_info": {
   "codemirror_mode": {
    "name": "ipython",
    "version": 3
   },
   "file_extension": ".py",
   "mimetype": "text/x-python",
   "name": "python",
   "nbconvert_exporter": "python",
   "pygments_lexer": "ipython3",
   "version": "3.5.2"
  }
 },
 "nbformat": 4,
 "nbformat_minor": 2
}
