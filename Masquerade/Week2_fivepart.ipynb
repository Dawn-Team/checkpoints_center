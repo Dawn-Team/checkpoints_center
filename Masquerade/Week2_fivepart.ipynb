{
 "cells": [
  {
   "cell_type": "markdown",
   "metadata": {},
   "source": [
    "# Week Two 吴恩达《神经网络和深度学习》笔记\n",
    "## 2.15 Python中的广播 Broadcasting in Python     \n",
    "在Python广播中通用规则:  \n",
    "(m,n)矩阵加减乘除(1,n)矩阵，python会将(1,n)矩阵复制n次得到(m,n)矩阵，再逐元素做加减乘除  \n",
    "(m,n)矩阵加减乘除(m,1)矩阵，python会将(m,1)矩阵复制n次得到(m,n)矩阵，再逐元素做加减乘除  \n",
    "(m,1)矩阵加减乘除实数，python会将实数复制n次得到(m,1)矩阵，再逐元素做加减乘除   \n",
    "## 2.16 关于python/numpy向量的说明 A note on python/numpy vectors  \n",
    "不建议使用(n,)这种秩为1的数组  \n",
    "assert()确保一个向量是需要的维度"
   ]
  },
  {
   "cell_type": "markdown",
   "metadata": {},
   "source": []
  }
 ],
 "metadata": {
  "kernelspec": {
   "display_name": "Python 3",
   "language": "python",
   "name": "python3"
  },
  "language_info": {
   "codemirror_mode": {
    "name": "ipython",
    "version": 3
   },
   "file_extension": ".py",
   "mimetype": "text/x-python",
   "name": "python",
   "nbconvert_exporter": "python",
   "pygments_lexer": "ipython3",
   "version": "3.5.2"
  }
 },
 "nbformat": 4,
 "nbformat_minor": 2
}
