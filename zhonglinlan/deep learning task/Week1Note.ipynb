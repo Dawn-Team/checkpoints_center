{
 "cells": [
  {
   "cell_type": "markdown",
   "metadata": {},
   "source": [
    "# 第一周作业课外知识\n",
    "\n",
    "1. NumPy是Python的科学计算的基本包。\n",
    "  h5py是一种常见的封装和数据集存储在H5文件交互。\n",
    "  matplotlib是2D图像的绘图工具包，使用matplotlib能够非常简单的可视化数据。\n",
    "  PIL和SciPy是用来测试你的模型\n",
    "  \n",
    "   \n",
    "2. 使用%matplotlib命令可以将matplotlib的图表直接嵌入到Notebook之中，或者使用指定的界面库显示图表，它有一个参数指定matplotlib图表的显示方式。       inline表示将图表嵌入到Notebook中"
   ]
  },
  {
   "cell_type": "code",
   "execution_count": null,
   "metadata": {},
   "outputs": [],
   "source": []
  }
 ],
 "metadata": {
  "kernelspec": {
   "display_name": "Python 3",
   "language": "python",
   "name": "python3"
  },
  "language_info": {
   "codemirror_mode": {
    "name": "ipython",
    "version": 3
   },
   "file_extension": ".py",
   "mimetype": "text/x-python",
   "name": "python",
   "nbconvert_exporter": "python",
   "pygments_lexer": "ipython3",
   "version": "3.5.2"
  }
 },
 "nbformat": 4,
 "nbformat_minor": 2
}
