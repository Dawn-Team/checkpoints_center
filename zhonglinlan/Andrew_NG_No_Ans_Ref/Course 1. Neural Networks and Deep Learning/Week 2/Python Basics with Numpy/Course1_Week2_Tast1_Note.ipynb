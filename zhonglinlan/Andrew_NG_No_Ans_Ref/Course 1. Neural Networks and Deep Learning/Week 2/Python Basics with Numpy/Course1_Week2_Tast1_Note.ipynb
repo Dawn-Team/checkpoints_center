{
 "cells": [
  {
   "cell_type": "markdown",
   "metadata": {},
   "source": [
    "# task1\n",
    "关键代码：\n",
    "\n",
    "    s = 1/(math.exp(-x)+1)\n",
    "    \n",
    "   math.exp(x),对x作e^x计算\n",
    "    "
   ]
  },
  {
   "cell_type": "markdown",
   "metadata": {},
   "source": [
    "# task2\n",
    "关键代码：\n",
    "\n",
    "      x = numpy.array([1, 2, 3])\n",
    "      \n",
    "   numpy.exp(arr),对arr行列式各元素进行e^x计算\n",
    "      "
   ]
  },
  {
   "cell_type": "markdown",
   "metadata": {},
   "source": [
    "# task3\n",
    "关键代码：\n",
    "\n",
    "     s = 1/(np.exp(-x)+1)\n",
    "     "
   ]
  },
  {
   "cell_type": "markdown",
   "metadata": {},
   "source": [
    "# task4\n",
    "关键代码：\n",
    "\n",
    "    s =  1/(np.exp(-x)+1)\n",
    "    \n",
    "    ds = s*(1-s)\n",
    "    \n",
    "   若s=1/1+e^x   则s'=s(1-s)  "
   ]
  },
  {
   "cell_type": "markdown",
   "metadata": {},
   "source": [
    "# task5\n",
    "关键代码：\n",
    "\n",
    "    v = image.reshape(image.shape[0]* image.shape[1]* 2, 1)\n",
    "    \n",
    "   arr.shape,返回值arr每个维度的长度.arr.reshape(r,c,....),将arr形成新的维度长度。\n",
    "   \n",
    "    "
   ]
  },
  {
   "cell_type": "markdown",
   "metadata": {},
   "source": [
    "# task6\n",
    "关键代码：\n",
    "\n",
    "     x_norm =np.linalg.norm(x,ord=2,axis=1,keepdims=True)\n",
    "    \n",
    "     print(x_norm)\n",
    "    \n",
    "     x=x*x/(x_norm*x_norm)\n",
    "    \n",
    "   numpy.lianlg.norm(x, ord=None, axis=None, keepdims=False),求x的范数，范数是对向量（或者矩阵）的度量，是一个标量。\n",
    "    \n",
    "    \n",
    "    \n",
    "   |参数|说明|计算方式|\n",
    "   |:---|:---|:---|\n",
    "   |默认|二范数：ℓ2|√x21+x22+…+x2n|\n",
    "   |ord=1|二范数：ℓ2|同上|\n",
    "   |ord=0|一范数：ℓ1|&#124;x1&#124;+&#124;x2&#124;+…+&#124;xn&#124;|\n",
    "   |ord=np.inf|\t无穷范数：ℓ∞|max(&#124;xi&#124;)|\n",
    "   \n",
    "   笔记及表格源自：http://blog.csdn.net/lanchunhui/article/details/51004387"
   ]
  },
  {
   "cell_type": "markdown",
   "metadata": {},
   "source": [
    "# task7\n",
    "关键代码：\n",
    "\n",
    "    x_exp =np.exp(x)\n",
    "\n",
    "    x_sum =np.sum(x_exp,axis=1)\n",
    "  \n",
    "    s = x_exp/x_sum.reshape(2,1)\n",
    "    \n",
    "   numpy.sum(x,axis=0,1,2),求和，当axis=0时，对列求和，axis=1时对行求和\n",
    "    "
   ]
  },
  {
   "cell_type": "markdown",
   "metadata": {},
   "source": [
    "# task8\n",
    "关键代码：\n",
    " \n",
    "    loss = np.sum(abs(y-yhat))\n",
    "  \n",
    "   abs(x),求x的绝对值。\n",
    "    "
   ]
  },
  {
   "cell_type": "markdown",
   "metadata": {},
   "source": [
    "# task9\n",
    "关键代码：\n",
    "\n",
    "    loss = np.sum(abs(y-yhat)*abs(y-yhat))"
   ]
  },
  {
   "cell_type": "code",
   "execution_count": null,
   "metadata": {},
   "outputs": [],
   "source": []
  }
 ],
 "metadata": {
  "kernelspec": {
   "display_name": "Python 3",
   "language": "python",
   "name": "python3"
  },
  "language_info": {
   "codemirror_mode": {
    "name": "ipython",
    "version": 3
   },
   "file_extension": ".py",
   "mimetype": "text/x-python",
   "name": "python",
   "nbconvert_exporter": "python",
   "pygments_lexer": "ipython3",
   "version": "3.5.2"
  }
 },
 "nbformat": 4,
 "nbformat_minor": 2
}
