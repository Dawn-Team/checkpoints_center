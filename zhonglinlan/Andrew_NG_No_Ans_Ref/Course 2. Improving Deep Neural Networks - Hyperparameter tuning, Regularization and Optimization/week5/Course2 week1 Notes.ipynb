{
 "cells": [
  {
   "cell_type": "markdown",
   "metadata": {},
   "source": [
    "# 训练/开发/测试集\n",
    "  \n",
    "  创建测试集 train_set,验证集 dev_set 测试集 test_set\n",
    "  \n",
    "  数据量小时，可以按照60%，20%,20%划分(或者  训练集:测试集=7:3)\n",
    "  \n",
    "  数据量大时，可以按照98%，1%，1%划分"
   ]
  },
  {
   "cell_type": "markdown",
   "metadata": {},
   "source": [
    "# 偏差和方差\n",
    "\n",
    " | 训练集误差：| 1%|15%|15%|0.5%|\n",
    " |:---:|:---:|:---:|:---:|:---:|\n",
    " |验证集误差：|   11%  |  16%  |  30%   |   1%   |\n",
    " |结果  |  对训练集过拟合，方差高| 对训练集欠拟合，偏差高|偏差、方差都高|低方差，低偏差|\n",
    " \n",
    " 最优误差：也被称为贝叶斯误差，是指在正常情况下该分类的理想错误率。\n",
    "\n",
    " 训练集错误率：偏差   \n",
    " \n",
    " 验证集错误率：方差"
   ]
  },
  {
   "cell_type": "markdown",
   "metadata": {},
   "source": [
    "# 正则化\n",
    "\n",
    "  数据过拟合（高方差）时采用，可以不影响偏差的情况下，降低方差\n",
    "  \n",
    "  利用dropout后，神经元不能依靠任何特征（特征值会被随机清除），并传播权重，则dropout将产生收缩权重平方范数的效果。\n",
    "  \n",
    "  当权重矩阵较大时，keep-prob值应相对其他层较低，每层可以不同。\n",
    "\n",
    "   总结：当某曾出现过拟合可能性较大时，可使keep-prob值较小，另一种方案是在一些层上用dropout，一些层上keep-prob设为1，在应用dropout的层只能有keep-prob一个超参。"
   ]
  },
  {
   "cell_type": "markdown",
   "metadata": {},
   "source": [
    "# 梯度消失或梯度爆炸\n",
    "\n",
    "   在深层神经网络中，由于W中的值大于或小于1，导致网络中一些与W[L]相关的函数（J，导数，梯度等）以指数级的速度进行增   或减，这样情况称为梯度消失或梯度爆炸，这个给神经网络的训练带来很大困难。\n",
    "   \n",
    "   解决方案：使用权重初始化  \n",
    "   \n",
    "   如果使用relu激活函数  W[l]=np.random.randn(shape)*np.sqrt(2/n[l-1])\n",
    "   \n",
    "   如果使用tanh激活函数  W[l]=np.random.randn(shape)*np.sqrt(1/n[l-1]) "
   ]
  },
  {
   "cell_type": "markdown",
   "metadata": {},
   "source": [
    "# 梯度检验\n",
    "（1）不要在训练神经网络时使用梯度检验，这只适用于调试中\n",
    "\n",
    "（2）如果梯度检验失败，需要检查问题处在哪一层，逐一检查该层的各个组成元素\n",
    "\n",
    "（3）记得正则化\n",
    "\n",
    "（4）不能使用dropout（如果算法中使用了dropout，需先关闭且程序运行正确后在梯度检验）"
   ]
  },
  {
   "cell_type": "code",
   "execution_count": null,
   "metadata": {},
   "outputs": [],
   "source": []
  }
 ],
 "metadata": {
  "kernelspec": {
   "display_name": "Python 3",
   "language": "python",
   "name": "python3"
  },
  "language_info": {
   "codemirror_mode": {
    "name": "ipython",
    "version": 3
   },
   "file_extension": ".py",
   "mimetype": "text/x-python",
   "name": "python",
   "nbconvert_exporter": "python",
   "pygments_lexer": "ipython3",
   "version": "3.5.2"
  }
 },
 "nbformat": 4,
 "nbformat_minor": 2
}
