{
 "cells": [
  {
   "cell_type": "markdown",
   "metadata": {},
   "source": [
    "## <center>Chapter1  Machine Learning overview </center>\n",
    "### 1.What’s machine learning\n",
    "- **_1.1 concept:_**    \n",
    "    Arthur Samuel(1959).Machine Learning : Field of study that gives computers the ability to learn without being explicitly programmed.\n",
    "    Tom Mitchell(1998) Well-posed Learning Problem : A computer program is said to learn from experience E with respect to some task T and performance measure P , if its performance on T, as measured by P, improves with experience E.\n",
    "    \n",
    "- **_1.2 Example1:_**    \n",
    "    playing checkers.   \n",
    "    E = the experience of playing many games of checkers  \n",
    "    T = the task of playing checkers.   \n",
    "    P = the probability that the program will win the next game.  \n",
    "    In general, any machine learning problem can be assigned to one of two broad \n",
    "\n",
    "\n",
    "### 2.Supervised learning  \n",
    "- **_2.1 concept:_**   \n",
    "In supervised learning, we are given a data set and already know what our correct output should look like, having the idea that there is a relationship between the input and the output. Supervised learning problems are categorized into \"regression\" and \"classification\" problems. In a regression problem, we are trying to predict results within a continuous output, meaning that we are trying to map input variables to some continuous function. In a classification problem, we are instead trying to predict results in a discrete output. In other words, we are trying to map input variables into discrete categories.\n",
    "\n",
    "- **_2.2 Example2:_**    \n",
    "Given data about the size of houses on the real estate market, try to predict their price. Price as a function of size is a continuous output, so this is a regression problem. \n",
    "We could turn this example into a classification problem by instead making our output about whether the house \"sells for more or less than the asking price.\" Here we are classifying the houses based on price into two discrete categories. \n",
    "\n",
    "- **_2.3 Example2:_** \n",
    "(a) Regression - Given a picture of a person, we have to predict their age on the basis of the given picture \n",
    "(b) Classification - Given a patient with a tumor, we have to predict whether the tumor is malignant or benign.\n",
    "\n",
    "### 3.Unsupervised learning  \n",
    "- **_3.1 concept:_**\n",
    "Unsupervised learning allows us to approach problems with little or no idea what our results should look like. We can derive structure from data where we don't necessarily know the effect of the variables. \n",
    "We can derive this structure by clustering the data based on relationships among the variables in the data. \n",
    "With unsupervised learning there is no feedback based on the prediction results. \n",
    "\n",
    "\n",
    "### 4.Basic terminology\n",
    "- **_4.1 data set:_**  \n",
    "- **_4.2 instance / sample:_**  \n",
    "- **_4.3 attribute / feature:_**  \n",
    "- **_4.4 attribute space:_**  \n",
    "- **_4.5 sample space:_**  \n",
    "- **_4.6 label space:_**  \n",
    "- **_4.7 hypothesis:_**  \n",
    "\n",
    "### 5.Hypothesis space\n",
    "- **_5.1 version space:_**  \n",
    "\n",
    "### 6.inductive bias\n",
    "- **_6.1 NFL Theorem:_**  "
   ]
  },
  {
   "cell_type": "code",
   "execution_count": null,
   "metadata": {},
   "outputs": [],
   "source": []
  }
 ],
 "metadata": {
  "kernelspec": {
   "display_name": "Python 3",
   "language": "python",
   "name": "python3"
  },
  "language_info": {
   "codemirror_mode": {
    "name": "ipython",
    "version": 3
   },
   "file_extension": ".py",
   "mimetype": "text/x-python",
   "name": "python",
   "nbconvert_exporter": "python",
   "pygments_lexer": "ipython3",
   "version": "3.5.2"
  }
 },
 "nbformat": 4,
 "nbformat_minor": 2
}
