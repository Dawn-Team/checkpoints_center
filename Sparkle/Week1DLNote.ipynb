{
 "cells": [
  {
   "cell_type": "markdown",
   "metadata": {},
   "source": [
    "## <center>Week1 Note of Deep Learning</center>\n",
    "### 1.Neural Network\n",
    "- **_1.1 concept:_  It is a powerful learning algorithm inspired by how the brain works.**  \n",
    "- **_1.2 Example1:_ single neural network**  \n",
    "Given data about the size of houses on the real estate market and you want to fit a function that will\n",
    "predict their price. It is a linear regression problem because the price as a function of size is a continuous\n",
    "output.<br>\n",
    "We know the prices can never be negative so we are creating a function called Rectified Linear Unit (ReLU)\n",
    "which starts at zero.\n",
    "- **_1.3 Example2:_ Multiple neural network**  \n",
    "The price of a house can be affected by other features such as size, number of bedrooms, zip code and\n",
    "wealth. The role of the neural network is to predicted the price and it will automatically generate the\n",
    "hidden units. We only need to give the inputs x and the output y.\n",
    "\n",
    "### 2.Supervised learning for Neural Network\n",
    "- **_2.1 CNN:_ Convolution Neural Network**  \n",
    "CNN used often for image application\n",
    "- **_2.2 RNN:_ Recurrent Neural Network**  \n",
    "RNN used for one-dimensional sequence data such as translating English to Chinses or a temporal component such as text transcript. \n",
    "- **_2.2 Structured vs unstructured data:_**  \n",
    "Structured data refers to things that has a defined meaning such as price, age whereas unstructured\n",
    "data refers to thing like pixel, raw audio, text\n",
    "\n",
    "### 3.The reason for deep learning take off\n",
    "The process of trainning a network is interative.\n",
    "- Being able to train a big enough neural network\n",
    "- Huge amount of labeled data  \n",
    "\n",
    "\n",
    "\n",
    "\n"
   ]
  }
 ],
 "metadata": {
  "kernelspec": {
   "display_name": "Python 3",
   "language": "python",
   "name": "python3"
  },
  "language_info": {
   "codemirror_mode": {
    "name": "ipython",
    "version": 3
   },
   "file_extension": ".py",
   "mimetype": "text/x-python",
   "name": "python",
   "nbconvert_exporter": "python",
   "pygments_lexer": "ipython3",
   "version": "3.5.2"
  },
  "widgets": {
   "application/vnd.jupyter.widget-state+json": {
    "state": {},
    "version_major": 2,
    "version_minor": 0
   }
  }
 },
 "nbformat": 4,
 "nbformat_minor": 2
}
