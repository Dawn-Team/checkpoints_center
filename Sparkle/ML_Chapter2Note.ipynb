{
 "cells": [
  {
   "cell_type": "markdown",
   "metadata": {},
   "source": [
    "## Chapter2 Model evaluation and selection \n",
    "### 1.Experical error and overfitting\n",
    "- **_1.1 concept:_**    \n",
    "\n",
    "- **_1.2 Example1:_**    \n",
    "\n",
    "### 2.Evaluation method\n",
    "- **_2.1 hold-out:_**   \n",
    "\n",
    "- **_2.2 cross validation:_**    \n",
    "\n",
    "- **_2.3 bootstrapping:_**  \n",
    "\n",
    "- **_2.4 parameter tuning and final model:_** \n",
    "\n",
    "### 3.Performance measure \n",
    "- **_3.1 error rate and accuracy:_**  \n",
    "- **_3.2 pricision,recall and F1:_**\n",
    "\n",
    "\n",
    "### 4.ROC and AUC\n",
    "- **_4.1 data set:_**  \n",
    "- **_4.2 instance / sample:_**  \n",
    "- **_4.3 attribute / feature:_**  \n",
    "- **_4.4 attribute space:_**  \n",
    "- **_4.5 sample space:_**  \n",
    "- **_4.6 label space:_**  \n",
    "- **_4.7 hypothesis:_**  \n",
    "\n",
    "### 5.Hypothesis space\n",
    "- **_5.1 version space:_**  \n",
    "\n",
    "### 6.inductive bias\n",
    "- **_6.1 NFL Theorem:_**  "
   ]
  },
  {
   "cell_type": "code",
   "execution_count": null,
   "metadata": {},
   "outputs": [],
   "source": []
  }
 ],
 "metadata": {
  "kernelspec": {
   "display_name": "Python 3",
   "language": "python",
   "name": "python3"
  },
  "language_info": {
   "codemirror_mode": {
    "name": "ipython",
    "version": 3
   },
   "file_extension": ".py",
   "mimetype": "text/x-python",
   "name": "python",
   "nbconvert_exporter": "python",
   "pygments_lexer": "ipython3",
   "version": "3.5.2"
  }
 },
 "nbformat": 4,
 "nbformat_minor": 2
}
