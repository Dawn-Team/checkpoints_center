{
 "cells": [
  {
   "cell_type": "markdown",
   "metadata": {
    "extensions": {
     "jupyter_dashboards": {
      "version": 1,
      "views": {
       "grid_default": {
        "col": 0,
        "height": 93,
        "hidden": false,
        "row": 0,
        "width": 12
       },
       "report_default": {}
      }
     }
    },
    "run_control": {
     "marked": false
    }
   },
   "source": [
    "# Markdown\n",
    "**Last Edit:  2018-03-06 17:09:40**  \n",
    "\n",
    "\n",
    "# Paragraphs And Components\n",
    "## Headers\n",
    "- Usage:  \n",
    "```markdown\n",
    "    # for level 1 header\n",
    "    ## for level 2 header\n",
    "    ### for level 3 header\n",
    "    #### for level 4 header\n",
    "    ##### for level 5 header\n",
    "    ###### for level 6 header\n",
    "```  \n",
    "- Render:  \n",
    "# for level 1 header  \n",
    "## for level 2 header  \n",
    "### for level 3 header  \n",
    "#### for level 4 header  \n",
    "##### for level 5 header  \n",
    "###### for level 6 header  \n",
    "\n",
    "## List\n",
    "### Ordered List\n",
    "\n",
    "- Usage:  \n",
    "\n",
    "```markdown\n",
    "    1. list item 1.\n",
    "    2. list item 2.\n",
    "    3. list item 3.\n",
    "    3. list item 4.\n",
    "    - list item 4.\n",
    "    - list item 5.\n",
    "\n",
    "```\n",
    "- Render:\n",
    "    1. list item 1.\n",
    "    2. list item 2.\n",
    "    3. list item 3.\n",
    "    3. list item 4.\n",
    "    - list item 5.\n",
    "    - list item 6.\n",
    "\n",
    "### Non-ordered List\n",
    "- Usage:  \n",
    "```markdown\n",
    "    - list item 1.\n",
    "    - list item 2.\n",
    "    - list item 3.\n",
    "```\n",
    "- Render:\n",
    "    - list item 1.\n",
    "    - list item 2.\n",
    "    - list item 3.\n",
    "\n",
    "### Mixed List\n",
    "- Usage:  \n",
    "```markdown\n",
    "    1. list item 1.\n",
    "        - sub item 1.\n",
    "            - one more item.\n",
    "            - another more item\n",
    "                - no more?\n",
    "        - sub item 2.\n",
    "    2. list item 2.\n",
    "    3. list item 3.\n",
    "    3. list item 3.\n",
    "```\n",
    "- Render:\n",
    "    1. list item 1.\n",
    "        - sub item 1.\n",
    "            - one more item.\n",
    "            - another more item\n",
    "                - no more?\n",
    "        - sub item 2.\n",
    "    2. list item 2.\n",
    "    3. list item 3.\n",
    "    3. list item 3.\n",
    "\n",
    "\n",
    "### Option Button\n",
    "- Usage:  \n",
    "```markdown\n",
    "    - [ ] option 1.\n",
    "    - [x] option 2.\n",
    "```\n",
    "- Render:\n",
    "    - [ ] option 1.\n",
    "    - [x] option 2.\n",
    "\n",
    "## Table\n",
    "- Usage:  \n",
    "```markdown\n",
    "    | Header One     | Header Two     |\n",
    "    | :------------- | :------------- |\n",
    "    | Item One       | Item Two       |\n",
    "```  \n",
    "- Render:  \n",
    "\n",
    "| Header One     | Header Two     |  \n",
    "| :------------- | :------------- |  \n",
    "| Item One       | Item Two       |  \n",
    "\n",
    "## Code Block\n",
    "- Usage:  \n",
    "```comment\n",
    "    \\`\\`\\`language\n",
    "        code here...\n",
    "    \\`\\`\\`\n",
    "```\n",
    "- Render:  \n",
    "\n",
    "With Shell:\n",
    "```shell\n",
    "    echo \"Hello\"\n",
    "```\n",
    "With Java:\n",
    "```java\n",
    "    public static void main(String[] args) {\n",
    "        System.out.println(\"Hello\");\n",
    "    }\n",
    "```\n",
    "With Python:\n",
    "```python\n",
    "    import numpy as np\n",
    "\n",
    "    print(\"Hello\")\n",
    "```"
   ]
  },
  {
   "cell_type": "markdown",
   "metadata": {
    "ExecuteTime": {
     "end_time": "2018-03-06T08:13:06.769785Z",
     "start_time": "2018-03-06T08:13:06.762610Z"
    },
    "extensions": {
     "jupyter_dashboards": {
      "version": 1,
      "views": {
       "grid_default": {
        "col": 0,
        "height": 112,
        "hidden": false,
        "row": 93,
        "width": null
       },
       "report_default": {}
      }
     }
    },
    "run_control": {
     "marked": false
    }
   },
   "source": [
    "# Style\n",
    "## Strong\n",
    "- Usage:\n",
    "```markdown\n",
    "    **Strong** compared with non-strong\n",
    "```\n",
    "- Render:\n",
    "**Strong** compared with non-strong\n",
    "\n",
    "## Italics\n",
    "- Usage:\n",
    "```markdown\n",
    "    *Italics* compared with non-italics\n",
    "```\n",
    "- Render:  \n",
    "*Italics* compared with non-italics\n",
    "\n",
    "## Strong and Italics\n",
    "- Usage:\n",
    "```markdown\n",
    "    ***Strong and Italics***\n",
    "```\n",
    "- Render:  \n",
    "***Strong and Italics***\n",
    "\n",
    "## Split Line\n",
    "- Usage:\n",
    "```markdown\n",
    "\n",
    "    above  \n",
    "    \n",
    "    ---  \n",
    "    \n",
    "    below\n",
    "```\n",
    "- Render:  \n",
    "  \n",
    "above  \n",
    "\n",
    "---  \n",
    "\n",
    "below\n",
    "\n",
    "\n",
    "# Media Contents\n",
    "## Hyper-links\n",
    "- Usage:  \n",
    "\n",
    "```markdown  \n",
    "    [this page](.)\n",
    "    [Official Site of Dawn-team](https://dawn-team.github.io)\n",
    "    \n",
    "```\n",
    "- Render:  \n",
    "[this page](.)  \n",
    "[Official Site of Dawn-team](https://dawn-team.github.io)\n",
    "\n",
    "\n",
    "## Images\n",
    "- Usage:  \n",
    "\n",
    "```markdown\n",
    "    ![logo](https://raw.githubusercontent.com/Dawn-Team/Dawn-Team.github.io/master/logo.png)\n",
    "    \n",
    "```\n",
    "- Render:  \n",
    "\n",
    "![logo](https://raw.githubusercontent.com/Dawn-Team/Dawn-Team.github.io/master/logo.png)\n",
    "\n",
    "\n",
    "\n",
    "# Formulas with MathJax\n",
    "## Two ways of writing Formula\n",
    "1. `$formula$`, `$$ equations $$` way.\n",
    "- Usage:  \n",
    "\n",
    "```markdown\n",
    "    $x_{i}^{2}$, $x \\in A$ and $\\vec{x}$\n",
    "```\n",
    "- Render:  \n",
    "$x_{i}^{2}$, $x \\in A$ and $\\vec{x}$\n",
    "\n",
    "\n",
    "2. Directly Using with 'nbextension'  \n",
    "\n",
    "- Usage:  \n",
    "```markdown\n",
    "    \\begin{equation}\\label{eq:1}\n",
    "        \\lim_{x \\to \\Delta x}{\\frac{f(x)-f(\\Delta x)}{x - \\Delta x}}\n",
    "    \\end{equation}\n",
    "```\n",
    "- Render:  \n",
    "\\begin{equation}\\label{eq:1}\n",
    "    \\lim_{x \\to \\Delta x}{\\frac{f(x)-f(\\Delta x)}{x - \\Delta x}}\n",
    "\\end{equation}\n",
    "\n",
    "\n",
    "\n",
    "\n",
    "\n",
    "\n",
    "\n",
    "## References for Latex Formula\n",
    "- [Latex Formula Editor](http://www.codecogs.com/latex/eqneditor.php)\n",
    "\n",
    "# Naive HTML Support\n",
    "- Usage:  \n",
    "\n",
    "```html\n",
    "    <audio src=\"https://github.com/Dawn-Team/checkpoints_center/raw/master/arvinsichuan/week%2018-02-04%20to%2018-02-10/generated.mp3\" controls=\"controls\"/>\n",
    "    \n",
    "```\n",
    "- Render:  \n",
    "<audio src=\"https://github.com/Dawn-Team/checkpoints_center/raw/master/arvinsichuan/week%2018-02-04%20to%2018-02-10/generated.mp3\" controls=\"controls\"/>\n",
    "      \n",
    "\n",
    "\n",
    "# IDE Tool  \n",
    "- Atom\n",
    "\n",
    "# Something about Copyright\n",
    "- Copyright is different between Code and Document.\n",
    "- [Go choosing a license](https://creativecommons.org/choose/)\n",
    "\n",
    "# References\n",
    "[Markdown Wikipedia](https://en.wikipedia.org/wiki/Markdown)\n",
    "\n",
    "\n"
   ]
  },
  {
   "cell_type": "markdown",
   "metadata": {
    "extensions": {
     "jupyter_dashboards": {
      "version": 1,
      "views": {
       "grid_default": {
        "col": 0,
        "height": 8,
        "hidden": false,
        "row": 205,
        "width": 12
       },
       "report_default": {}
      }
     }
    }
   },
   "source": [
    "\n",
    "-----  \n",
    "\n",
    "<a rel=\"license\" style=\"text-decoration:none\" href=\"http://creativecommons.org/licenses/by-nc-sa/4.0/\">\n",
    "    <div style=\"margin-top:0.5em;margin-bottom:1em;\">\n",
    "        <img alt=\"Creative Comments\" style=\"display:inline;\"  src=\"https://mirrors.creativecommons.org/presskit/icons/cc.svg\"/>\n",
    "        <img alt=\"Attribution\" style=\"display:inline;margin-top:0;\"  src=\"https://mirrors.creativecommons.org/presskit/icons/by.svg\"/>\n",
    "        <img alt=\"Non-Commercial\" style=\"display:inline;margin-top:0;\"  src=\"https://mirrors.creativecommons.org/presskit/icons/nc.svg\"/>\n",
    "        <img alt=\"Non-Commercial\" style=\"display:inline;margin-top:0;\"  src=\"https://mirrors.creativecommons.org/presskit/icons/nc-jp.svg\"/>\n",
    "        <img alt=\"Share Alike\" style=\"display:inline;margin-top:0;\"  src=\"https://mirrors.creativecommons.org/presskit/icons/sa.svg\"/>\n",
    "     </div>\n",
    "</a>\n",
    "<br />\n",
    "This work is licensed under a <a rel=\"license\" href=\"http://creativecommons.org/licenses/by-nc-sa/4.0/\">Creative Commons Attribution-NonCommercial-ShareAlike 4.0 International License</a>.\n",
    "\n",
    "CREATED BY [ArvinSiChuan](mailto:arvinsc@foxmail.com?subject=LearningMaterialsOfDawnTeam), 07-Mar-2018.  \n",
    "Updated at 08-Mar-2018, VERSION 1.0\n"
   ]
  },
  {
   "cell_type": "code",
   "execution_count": 1,
   "metadata": {
    "ExecuteTime": {
     "end_time": "2018-03-09T14:03:06.180676Z",
     "start_time": "2018-03-09T14:03:06.172375Z"
    },
    "deletable": false,
    "editable": false,
    "extensions": {
     "jupyter_dashboards": {
      "version": 1,
      "views": {
       "grid_default": {
        "col": 0,
        "height": 4,
        "hidden": false,
        "row": 213,
        "width": 4
       },
       "report_default": {}
      }
     }
    },
    "run_control": {
     "marked": true
    }
   },
   "outputs": [
    {
     "name": "stdout",
     "output_type": "stream",
     "text": [
      "THE END OF THE DOC\n"
     ]
    }
   ],
   "source": [
    "print (\"THE END OF THE DOC\")"
   ]
  },
  {
   "cell_type": "markdown",
   "metadata": {
    "extensions": {
     "jupyter_dashboards": {
      "version": 1,
      "views": {
       "grid_default": {
        "col": 4,
        "height": 4,
        "hidden": false,
        "row": 213,
        "width": null
       },
       "report_default": {}
      }
     }
    }
   },
   "source": []
  },
  {
   "cell_type": "markdown",
   "metadata": {
    "extensions": {
     "jupyter_dashboards": {
      "version": 1,
      "views": {
       "grid_default": {
        "col": 0,
        "height": 4,
        "hidden": false,
        "row": 217,
        "width": null
       },
       "report_default": {}
      }
     }
    }
   },
   "source": []
  }
 ],
 "metadata": {
  "extensions": {
   "jupyter_dashboards": {
    "activeView": "grid_default",
    "version": 1,
    "views": {
     "grid_default": {
      "cellMargin": 10,
      "defaultCellHeight": 20,
      "maxColumns": 12,
      "name": "grid",
      "type": "grid"
     },
     "report_default": {
      "name": "report",
      "type": "report"
     }
    }
   }
  },
  "kernelspec": {
   "display_name": "Python 3",
   "language": "python",
   "name": "python3"
  },
  "language_info": {
   "codemirror_mode": {
    "name": "ipython",
    "version": 3
   },
   "file_extension": ".py",
   "mimetype": "text/x-python",
   "name": "python",
   "nbconvert_exporter": "python",
   "pygments_lexer": "ipython3",
   "version": "3.5.2"
  },
  "latex_envs": {
   "LaTeX_envs_menu_present": true,
   "autocomplete": true,
   "bibliofile": "biblio.bib",
   "cite_by": "apalike",
   "current_citInitial": 1,
   "eqLabelWithNumbers": true,
   "eqNumInitial": 1,
   "hotkeys": {
    "equation": "Ctrl-E",
    "itemize": "Ctrl-I"
   },
   "labels_anchors": false,
   "latex_user_defs": false,
   "report_style_numbering": false,
   "user_envs_cfg": false
  },
  "toc": {
   "nav_menu": {},
   "number_sections": false,
   "sideBar": true,
   "skip_h1_title": false,
   "toc_cell": false,
   "toc_position": {},
   "toc_section_display": "block",
   "toc_window_display": false
  }
 },
 "nbformat": 4,
 "nbformat_minor": 2
}
