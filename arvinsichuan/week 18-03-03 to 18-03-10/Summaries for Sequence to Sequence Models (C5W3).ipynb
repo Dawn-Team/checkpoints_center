{
 "cells": [
  {
   "cell_type": "markdown",
   "metadata": {},
   "source": [
    "# Summaries for Sequence to Sequence Models (C5W3)\n",
    "**Last Edit: 2018-03-09 17:33:55**\n",
    "\n",
    "\n",
    "## Various Sequence to Sequence Models\n",
    "\n",
    "### Basic Models\n",
    "- Encoder $\\to$ Decoder\n",
    "- Image Captioning: $Images \\to CNN \\to Decoder$\n",
    "- Machine translation is a task predicting the probability under a certain sentence of $x$ compared to the Language Modeling predicting the probability of a sentence.\n",
    "- When doing a machine translation, we may want to pick the most likely sentence rather than randomly sampled ones(using greedy search). The reasons are: 1)greedy search may be effected by the most common appeared words(eg. \"is going to visit\" as \"is visiting\" ), 2)greedy search costs much on computation and approximately search can word better,\n"
   ]
  },
  {
   "cell_type": "markdown",
   "metadata": {},
   "source": [
    "# Picking the most likely sentences\n"
   ]
  },
  {
   "cell_type": "markdown",
   "metadata": {},
   "source": [
    "# Beam Search"
   ]
  },
  {
   "cell_type": "markdown",
   "metadata": {},
   "source": [
    "# Error Analysis in Beam Search\n"
   ]
  },
  {
   "cell_type": "markdown",
   "metadata": {},
   "source": [
    "# Bleu Score"
   ]
  },
  {
   "cell_type": "markdown",
   "metadata": {},
   "source": [
    "# Attention Model"
   ]
  },
  {
   "cell_type": "markdown",
   "metadata": {},
   "source": [
    "# Audio Data & Trigger Words Detection "
   ]
  },
  {
   "cell_type": "markdown",
   "metadata": {},
   "source": [
    "# Quiz and Programming Summaries\n",
    "- \"Conditional Model\" is the one evaluate the current whole sentence who's depending on input sequences(encoder).\n",
    "- `keras.layers.Dot(axes,normalize=False) # Computes a dot product between two tensors`\n",
    "- `keras.layers.RepeatVector(n) # Repeat the input n times`\n",
    "- Machine Translation Models can be used to map one sequence to another (Not only for translations)\n",
    "- Visualization of **Attention weights $a^{<t>,<t'>}$** can give a brief intuition for how the sequences between inputs and outputs are related.\n",
    "- Using a spectrogram and optionally a 1-D conv layer is a common preprocessing stop prior to passing audio data to an RNN, GRU or LSTM."
   ]
  },
  {
   "cell_type": "markdown",
   "metadata": {},
   "source": [
    "\n",
    "-----  \n",
    "\n",
    "<a rel=\"license\" style=\"text-decoration:none\" href=\"http://creativecommons.org/licenses/by-nc-sa/4.0/\">\n",
    "    <div style=\"margin-top:0.5em;margin-bottom:1em;\">\n",
    "        <img alt=\"Creative Comments\" style=\"display:inline;\"  src=\"https://mirrors.creativecommons.org/presskit/icons/cc.svg\"/>\n",
    "        <img alt=\"Attribution\" style=\"display:inline;margin-top:0;\"  src=\"https://mirrors.creativecommons.org/presskit/icons/by.svg\"/>\n",
    "        <img alt=\"Non-Commercial\" style=\"display:inline;margin-top:0;\"  src=\"https://mirrors.creativecommons.org/presskit/icons/nc.svg\"/>\n",
    "        <img alt=\"Non-Commercial\" style=\"display:inline;margin-top:0;\"  src=\"https://mirrors.creativecommons.org/presskit/icons/nc-jp.svg\"/>\n",
    "        <img alt=\"Share Alike\" style=\"display:inline;margin-top:0;\"  src=\"https://mirrors.creativecommons.org/presskit/icons/sa.svg\"/>\n",
    "     </div>\n",
    "</a>\n",
    "<br />\n",
    "This work is licensed under a <a rel=\"license\" href=\"http://creativecommons.org/licenses/by-nc-sa/4.0/\">Creative Commons Attribution-NonCommercial-ShareAlike 4.0 International License</a>.\n",
    "\n",
    "CREATED BY [ArvinSiChuan](mailto:arvinsc@foxmail.com?subject=Summaries%20for%20Sequence%20to%20Sequence%20Models%20), 04-Mar-2018.  \n",
    "Updated at 08-Mar-2018, VERSION SNAPSHOT-1.0.0"
   ]
  },
  {
   "cell_type": "code",
   "execution_count": null,
   "metadata": {},
   "outputs": [],
   "source": []
  }
 ],
 "metadata": {
  "kernelspec": {
   "display_name": "Python 3",
   "language": "python",
   "name": "python3"
  },
  "language_info": {
   "codemirror_mode": {
    "name": "ipython",
    "version": 3
   },
   "file_extension": ".py",
   "mimetype": "text/x-python",
   "name": "python",
   "nbconvert_exporter": "python",
   "pygments_lexer": "ipython3",
   "version": "3.5.2"
  },
  "latex_envs": {
   "LaTeX_envs_menu_present": true,
   "autocomplete": true,
   "bibliofile": "biblio.bib",
   "cite_by": "apalike",
   "current_citInitial": 1,
   "eqLabelWithNumbers": true,
   "eqNumInitial": 1,
   "hotkeys": {
    "equation": "Ctrl-E",
    "itemize": "Ctrl-I"
   },
   "labels_anchors": false,
   "latex_user_defs": false,
   "report_style_numbering": false,
   "user_envs_cfg": false
  },
  "toc": {
   "nav_menu": {},
   "number_sections": false,
   "sideBar": true,
   "skip_h1_title": false,
   "toc_cell": false,
   "toc_position": {},
   "toc_section_display": "block",
   "toc_window_display": false
  }
 },
 "nbformat": 4,
 "nbformat_minor": 2
}
