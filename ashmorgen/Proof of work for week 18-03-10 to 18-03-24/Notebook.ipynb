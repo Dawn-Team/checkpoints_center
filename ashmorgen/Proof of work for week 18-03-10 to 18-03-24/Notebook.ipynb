{
 "cells": [
  {
   "cell_type": "markdown",
   "metadata": {},
   "source": [
    "# 实现向量化\n",
    "\n",
    "for i = 1 to m:<br>\n",
    "$$ Z^{[1](i)}=W^{[1]}x^{(i)}+ b^{[1]} $$\n",
    "$$ \\alpha^{[1](i)}=\\sigma(z^{[1](i)}) $$\n",
    "$$ Z^{[2](i)}=W^{[2]}\\alpha^{[1](i)}+ b^{[2]} $$\n",
    "$$ \\alpha^{[2](i)}=\\sigma(z^{[2](i)}) $$\n",
    "\n",
    "# 激活函数\n",
    "$$ Z^{[1]}=W^{[1]}x+ b^{[1]} $$\n",
    "$$ \\alpha^{[1]}=g^{[1]}(z^{[1]})=tanh(z^{[1]}) $$\n",
    "$$ Z^{[2]}=W^{[2]}\\alpha^{[1]}+ b^{[2]} $$\n",
    "$$ \\alpha^{[2]}=g^{[2]}(z^{[2]})=tanh(z^{[2]}) $$\n",
    "\n",
    "### sigmoid:\n",
    "$$ \\alpha = \\frac {1}{1+ e^{-Z}}$$\n",
    "\n",
    "### tanh:\n",
    "$$ \\alpha = \\frac {e^{Z}-e^{-Z}}{e^{Z}+ e^{-Z}}$$\n",
    "\n",
    "### ReLU\n",
    "$$ \\alpha = max(0,Z) $$\n",
    "\n",
    "### leaky ReLU\n",
    "$$ \\alpha = max(0,Z) $$"
   ]
  }
 ],
 "metadata": {
  "kernelspec": {
   "display_name": "Python 3",
   "language": "python",
   "name": "python3"
  },
  "language_info": {
   "codemirror_mode": {
    "name": "ipython",
    "version": 3
   },
   "file_extension": ".py",
   "mimetype": "text/x-python",
   "name": "python",
   "nbconvert_exporter": "python",
   "pygments_lexer": "ipython3",
   "version": "3.5.2"
  }
 },
 "nbformat": 4,
 "nbformat_minor": 2
}
