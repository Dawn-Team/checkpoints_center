{
 "cells": [
  {
   "cell_type": "markdown",
   "metadata": {},
   "source": [
    "## 培训员的主要工作\n",
    "\n",
    "# 一、目标与愿景\n",
    "1、秉承开放的原则<br/>\n",
    "2、主要内容和目标方向是机器学习<br/>\n",
    "3、愿景是在某些方面刷新State of art<br/>\n",
    "4、把机器学习投入实际应用<br/>\n",
    "\n",
    "# 二、Github平台\n",
    "1、注册github账号<br/>\n",
    "2、github的security验证<br/>\n",
    "3、加入dawn-team组群<br/>\n",
    "4、fork检查点checkpoint到自己的仓库<br/>\n",
    "5、了解GitHub的基本操作方式<br/>\n",
    "6、完成一个Helloword<br/>\n",
    "\n",
    "\n",
    "# 三、Jupyter平台\n",
    "1、登录强调安全性<br/>\n",
    "2、启动服务器之前要阅读Note<br/>\n",
    "3、主界面介绍，文件管理介绍，Terminals及shell介绍，相关插件介绍，notebook的介绍和Markdown的语法介绍<br/>\n",
    "\n",
    "# 四、日常例会\n",
    "1、例会的时间<br/>\n",
    "2、例会的议程<br/>\n",
    "3、火炬手的功能及工作<br/>\n",
    "4、主持人的功能及工作<br/>\n",
    "5、个人相关效率及惩罚<br/>\n",
    "\n",
    "\n",
    "# 五、邮件\n",
    "1、邮件格式<br/>\n",
    "2、定期查收邮件<br/>\n"
   ]
  }
 ],
 "metadata": {
  "kernelspec": {
   "display_name": "Python 3",
   "language": "python",
   "name": "python3"
  },
  "language_info": {
   "codemirror_mode": {
    "name": "ipython",
    "version": 3
   },
   "file_extension": ".py",
   "mimetype": "text/x-python",
   "name": "python",
   "nbconvert_exporter": "python",
   "pygments_lexer": "ipython3",
   "version": "3.5.2"
  }
 },
 "nbformat": 4,
 "nbformat_minor": 2
}
