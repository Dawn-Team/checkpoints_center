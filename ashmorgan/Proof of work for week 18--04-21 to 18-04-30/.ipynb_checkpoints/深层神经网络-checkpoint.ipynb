{
 "cells": [
  {
   "cell_type": "markdown",
   "metadata": {},
   "source": [
    "# 深层神经网络 #\n",
    "## 1.深层神经网络中的正向传递 ##\n",
    "\n",
    "$$ Z^{[1]}=W^{[1]}a^{[0]}+ b^{[1]} $$\n",
    "$$ Z^{[2]}=W^{[2]}a^{[1]}+ b^{[2]} $$\n",
    "$$ Z^{[3]}=W^{[3]}a^{[2]}+ b^{[3]} $$\n",
    "$$ Z^{[4]}=W^{[4]}a^{[3]}+ b^{[4]} $$\n",
    "\n",
    "\n",
    "## 2.深层神经网络中的维度确定 ##\n",
    "\n",
    "$$ W^{[l]}:(n^{[l]},n^{[l-1]}) $$\n",
    "$$ b^{[l]}:(n^{[l]},1) $$\n",
    "$$ dW^{[l]}:(n^{[l]},n^{[l-1]}) $$\n",
    "$$ db^{[l]}:(n^{[l]},1) $$\n",
    "\n",
    "## 3.构件深层神经网络块 ##\n",
    "\n",
    "## 4.正向传播与反向传播 ##\n",
    "$$ dZ^{[l]}=W^{[l+1]^T}dZ^{[l+1]}*g^{[l]}(Z^{[l]}) $$\n",
    "$$ dA^{[l-1]}=W^{[l]^T}dZ^{[l]} $$"
   ]
  }
 ],
 "metadata": {
  "kernelspec": {
   "display_name": "Python 3",
   "language": "python",
   "name": "python3"
  },
  "language_info": {
   "codemirror_mode": {
    "name": "ipython",
    "version": 3
   },
   "file_extension": ".py",
   "mimetype": "text/x-python",
   "name": "python",
   "nbconvert_exporter": "python",
   "pygments_lexer": "ipython3",
   "version": "3.5.2"
  }
 },
 "nbformat": 4,
 "nbformat_minor": 2
}
